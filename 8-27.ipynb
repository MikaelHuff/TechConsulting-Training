{
 "cells": [
  {
   "cell_type": "markdown",
   "id": "a0129c92-15e0-45d4-91d8-3fed4e468ab1",
   "metadata": {},
   "source": [
    "# Training\n",
    "### First Class\n",
    "## Variable\n"
   ]
  },
  {
   "cell_type": "code",
   "execution_count": 2,
   "id": "357b81f8-17d4-445f-9b49-6f43e3cee5d2",
   "metadata": {},
   "outputs": [],
   "source": [
    "a = 3"
   ]
  },
  {
   "cell_type": "code",
   "execution_count": 3,
   "id": "9b61a1fc-be59-41df-aa8b-9d78b5a6ff80",
   "metadata": {},
   "outputs": [
    {
     "data": {
      "text/plain": [
       "int"
      ]
     },
     "execution_count": 3,
     "metadata": {},
     "output_type": "execute_result"
    }
   ],
   "source": [
    "type(a)"
   ]
  },
  {
   "cell_type": "code",
   "execution_count": 5,
   "id": "b8d9d27f-35b4-4ba8-b3fb-7d02840e4533",
   "metadata": {},
   "outputs": [],
   "source": [
    "a = \"A\""
   ]
  },
  {
   "cell_type": "code",
   "execution_count": 6,
   "id": "8a36c361-8a60-4fb6-b413-47102ab35f9f",
   "metadata": {},
   "outputs": [
    {
     "data": {
      "text/plain": [
       "str"
      ]
     },
     "execution_count": 6,
     "metadata": {},
     "output_type": "execute_result"
    }
   ],
   "source": [
    "type(a)\n"
   ]
  },
  {
   "cell_type": "code",
   "execution_count": 8,
   "id": "3821dc2b-d4f8-4628-9c88-d171d92172a0",
   "metadata": {},
   "outputs": [
    {
     "data": {
      "text/plain": [
       "float"
      ]
     },
     "execution_count": 8,
     "metadata": {},
     "output_type": "execute_result"
    }
   ],
   "source": [
    "a = 3.0\n",
    "type(a)"
   ]
  },
  {
   "cell_type": "code",
   "execution_count": 13,
   "id": "ba98e2a5-940a-48db-b350-d8bf97db306a",
   "metadata": {},
   "outputs": [
    {
     "data": {
      "text/plain": [
       "13"
      ]
     },
     "execution_count": 13,
     "metadata": {},
     "output_type": "execute_result"
    }
   ],
   "source": [
    "a = 6\n",
    "b = 7\n",
    "a + b"
   ]
  },
  {
   "cell_type": "code",
   "execution_count": 20,
   "id": "e2130595-a06c-4fe4-b94a-5fc09cfbc4f4",
   "metadata": {},
   "outputs": [
    {
     "name": "stdout",
     "output_type": "stream",
     "text": [
      "addition -  11.5\n",
      "subtraction -  4.5\n",
      "multiplication - 28.0\n",
      "division - 2.2857142857142856\n"
     ]
    }
   ],
   "source": [
    "first_var = 8\n",
    "second_var = 3.5\n",
    "print('addition - ', first_var + second_var)\n",
    "print('subtraction - ', first_var - second_var)\n",
    "print('multiplication -', first_var * second_var)\n",
    "print('division -', first_var / second_var)"
   ]
  },
  {
   "cell_type": "code",
   "execution_count": 23,
   "id": "b43df052-3252-4218-9ec5-7436bf28cf7f",
   "metadata": {},
   "outputs": [
    {
     "name": "stdin",
     "output_type": "stream",
     "text": [
      "Print your name: Mikael\n"
     ]
    },
    {
     "data": {
      "text/plain": [
       "'Mikael'"
      ]
     },
     "execution_count": 23,
     "metadata": {},
     "output_type": "execute_result"
    }
   ],
   "source": [
    "name = input(\"Print your name:\")\n",
    "name"
   ]
  },
  {
   "cell_type": "code",
   "execution_count": 36,
   "id": "c73613ca-c710-4eb0-ab98-12cff9d7834d",
   "metadata": {},
   "outputs": [
    {
     "name": "stdin",
     "output_type": "stream",
     "text": [
      "Input a number 10\n"
     ]
    }
   ],
   "source": [
    "first_number = input(\"Input a number\")\n",
    "\n",
    "type(first_number)\n",
    "type_cast_first_num = int(first_number)"
   ]
  },
  {
   "cell_type": "code",
   "execution_count": 34,
   "id": "cb859eef-6fd2-43b8-9721-8559b1e9670e",
   "metadata": {},
   "outputs": [
    {
     "name": "stdout",
     "output_type": "stream",
     "text": [
      "b larger\n"
     ]
    }
   ],
   "source": [
    "a = 6\n",
    "b = 8\n",
    "if a > b:\n",
    "    print(\"a larger\")\n",
    "else:\n",
    "    print('b larger')"
   ]
  },
  {
   "cell_type": "markdown",
   "id": "23602cd8-dd42-4a25-ab38-37f6544d8f9c",
   "metadata": {},
   "source": [
    "input from the user two variable one for opperation using If create calculate"
   ]
  },
  {
   "cell_type": "code",
   "execution_count": 41,
   "id": "1de1dbe4-6e47-4268-8fec-0d5782caef51",
   "metadata": {},
   "outputs": [
    {
     "name": "stdin",
     "output_type": "stream",
     "text": [
      "Enter First Variable 10\n",
      "Enter Second Variable 5\n",
      "Input Operator (+,-,*,/) -\n"
     ]
    },
    {
     "name": "stdout",
     "output_type": "stream",
     "text": [
      "5\n"
     ]
    }
   ],
   "source": [
    "varA = int(input(\"Enter First Variable\"))\n",
    "varB = int(input(\"Enter Second Variable\"))\n",
    "operation = input('Input Operator (+,-,*,/)')\n",
    "\n",
    "if operation == '+':\n",
    "    print(varA + varB)\n",
    "elif operation == '-':\n",
    "    print(varA - varB)\n",
    "elif operation == '*':\n",
    "    print(varA * varB)\n",
    "elif operation == '/':\n",
    "    print(varA / varB)\n",
    "else:\n",
    "    print('not valid operator')"
   ]
  },
  {
   "cell_type": "code",
   "execution_count": 44,
   "id": "85540058-31e4-43b6-afb4-be3b0c3a3afb",
   "metadata": {},
   "outputs": [
    {
     "data": {
      "text/plain": [
       "range(0, 5)"
      ]
     },
     "execution_count": 44,
     "metadata": {},
     "output_type": "execute_result"
    }
   ],
   "source": [
    "range(5)"
   ]
  },
  {
   "cell_type": "code",
   "execution_count": 43,
   "id": "0aeccaaf-a832-4d66-996a-39b1155f8c36",
   "metadata": {},
   "outputs": [
    {
     "name": "stdout",
     "output_type": "stream",
     "text": [
      "0\n",
      "1\n",
      "2\n",
      "3\n",
      "4\n"
     ]
    }
   ],
   "source": [
    "for i in range(5):\n",
    "    print(i)"
   ]
  },
  {
   "cell_type": "code",
   "execution_count": 53,
   "id": "b01d31a2-5062-456d-8187-24b8d6defad2",
   "metadata": {},
   "outputs": [
    {
     "name": "stdin",
     "output_type": "stream",
     "text": [
      "Enter First Variable 10\n",
      "Enter Second Variable 5\n",
      "Input Operator (+,-,*,/) +\n"
     ]
    },
    {
     "name": "stdout",
     "output_type": "stream",
     "text": [
      "15\n"
     ]
    },
    {
     "name": "stdin",
     "output_type": "stream",
     "text": [
      "Continue Y/N? Y\n",
      "Enter First Variable 10\n",
      "Enter Second Variable 20\n",
      "Input Operator (+,-,*,/) *\n"
     ]
    },
    {
     "name": "stdout",
     "output_type": "stream",
     "text": [
      "200\n"
     ]
    },
    {
     "name": "stdin",
     "output_type": "stream",
     "text": [
      "Continue Y/N? Y\n",
      "Enter First Variable 10\n",
      "Enter Second Variable 2\n",
      "Input Operator (+,-,*,/) /\n"
     ]
    },
    {
     "name": "stdout",
     "output_type": "stream",
     "text": [
      "5.0\n"
     ]
    },
    {
     "name": "stdin",
     "output_type": "stream",
     "text": [
      "Continue Y/N? N\n"
     ]
    }
   ],
   "source": [
    "while True:\n",
    "    varA = int(input(\"Enter First Variable\"))\n",
    "    varB = int(input(\"Enter Second Variable\"))\n",
    "    operation = input('Input Operator (+,-,*,/)')\n",
    "    \n",
    "    if operation == '+':\n",
    "        print(varA + varB)\n",
    "    elif operation == '-':\n",
    "        print(varA - varB)\n",
    "    elif operation == '*':\n",
    "        print(varA * varB)\n",
    "    elif operation == '/':\n",
    "        print(varA / varB)\n",
    "    else:\n",
    "        print('not valid operator')\n",
    "        \n",
    "    cont = input('Continue Y/N?')\n",
    "    if cont != 'Y':\n",
    "        break"
   ]
  },
  {
   "cell_type": "code",
   "execution_count": 69,
   "id": "82c9396e-6490-4a06-b871-1259789a3888",
   "metadata": {},
   "outputs": [
    {
     "name": "stdin",
     "output_type": "stream",
     "text": [
      "Mathematical or Logical logical\n",
      "Input Operation (AND, OR, NOT) not\n",
      "Enter First Variable false\n"
     ]
    },
    {
     "name": "stdout",
     "output_type": "stream",
     "text": [
      "True\n",
      "not valid operator\n"
     ]
    },
    {
     "name": "stdin",
     "output_type": "stream",
     "text": [
      "Continue Y/N? y\n",
      "Mathematical or Logical mathematical\n",
      "Input Operator (+,-,*,/) *\n",
      "Enter First Variable 5\n",
      "Enter Second Variable 10\n"
     ]
    },
    {
     "name": "stdout",
     "output_type": "stream",
     "text": [
      "50.0\n"
     ]
    },
    {
     "name": "stdin",
     "output_type": "stream",
     "text": [
      "Continue Y/N? n\n"
     ]
    }
   ],
   "source": [
    "def mathematical():        \n",
    "    operation = input('Input Operator (+,-,*,/)')\n",
    "    varA = float(input(\"Enter First Variable\"))\n",
    "    varB = float(input(\"Enter Second Variable\"))\n",
    "    \n",
    "    if operation == '+':\n",
    "        print(varA + varB)\n",
    "    elif operation == '-':\n",
    "        print(varA - varB)\n",
    "    elif operation == '*':\n",
    "        print(varA * varB)\n",
    "    elif operation == '/':\n",
    "        if varB == 0:\n",
    "            print('cannot divide by 0')\n",
    "            return\n",
    "        print(varA / varB)\n",
    "    else:\n",
    "        print('not valid operator')\n",
    "\n",
    "def logical():    \n",
    "    operation = input('Input Operation (AND, OR, NOT)').lower()\n",
    "    varA = input(\"Enter First Variable\").lower().startswith('t')\n",
    "    if operation.lower() == 'not':\n",
    "        print(not varA)\n",
    "        return\n",
    "    else:\n",
    "        varB = input(\"Enter Second Variable\").lower().startswith('t')\n",
    "    \n",
    "    if operation == 'and':\n",
    "        print(varA and varB)\n",
    "    elif operation == 'or':\n",
    "        print(varA or varB)\n",
    "    else:\n",
    "        print('not valid operator')\n",
    "\n",
    "\n",
    "while True:\n",
    "    operation_type = input('Mathematical or Logical').lower()\n",
    "    if operation_type == 'mathematical':\n",
    "        mathematical()\n",
    "    elif operation_type == 'logical':\n",
    "        logical()\n",
    "    else:\n",
    "        print(\"Invalid Operation Type\")\n",
    "        \n",
    "    cont = input('Continue Y/N?').lower()\n",
    "    if cont == 'n':\n",
    "        break\n",
    "    elif cont != 'y':\n",
    "        print('invalid response')\n",
    "        break"
   ]
  },
  {
   "cell_type": "code",
   "execution_count": null,
   "id": "7f9e3393-42a6-4199-bffa-73674b0ea85a",
   "metadata": {},
   "outputs": [],
   "source": []
  }
 ],
 "metadata": {
  "kernelspec": {
   "display_name": "Python 3 (ipykernel)",
   "language": "python",
   "name": "python3"
  },
  "language_info": {
   "codemirror_mode": {
    "name": "ipython",
    "version": 3
   },
   "file_extension": ".py",
   "mimetype": "text/x-python",
   "name": "python",
   "nbconvert_exporter": "python",
   "pygments_lexer": "ipython3",
   "version": "3.13.7"
  }
 },
 "nbformat": 4,
 "nbformat_minor": 5
}

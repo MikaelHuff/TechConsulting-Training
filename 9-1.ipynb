{
 "cells": [
  {
   "cell_type": "code",
   "execution_count": 5,
   "id": "8c64f147",
   "metadata": {},
   "outputs": [],
   "source": [
    "import pandas as pd\n",
    "\n",
    "training = pd.read_csv('data/regression_training.csv')\n",
    "\n",
    "training.head()\n",
    "x = training['Hours_Study']\n",
    "y = training['Marks']"
   ]
  },
  {
   "cell_type": "code",
   "execution_count": 6,
   "id": "1819ea95",
   "metadata": {},
   "outputs": [],
   "source": [
    "x_sum, y_sum = 0,0\n",
    "am = len(x)\n",
    "for i in range(am):\n",
    "    x_sum += x[i]\n",
    "    y_sum += y[i]\n",
    "x_avg, y_avg = x_sum/am, y_sum/am"
   ]
  },
  {
   "cell_type": "code",
   "execution_count": 8,
   "id": "6489d8eb",
   "metadata": {},
   "outputs": [
    {
     "name": "stdout",
     "output_type": "stream",
     "text": [
      "slope is:  5.1117647058823525\n",
      "intercept is:  28.779411764705888\n"
     ]
    }
   ],
   "source": [
    "numerator = 0\n",
    "denom = 0\n",
    "for i in range(am):\n",
    "    numerator += (x[i]-x_avg) * (y[i]-y_avg)\n",
    "    denom += (x[i]-x_avg)**2\n",
    "slope = numerator/denom\n",
    "intercept = y_avg - slope*x_avg\n",
    "print('slope is: ', slope)\n",
    "print('intercept is: ', intercept)"
   ]
  },
  {
   "cell_type": "code",
   "execution_count": 10,
   "id": "66cd2e91",
   "metadata": {},
   "outputs": [
    {
     "name": "stdout",
     "output_type": "stream",
     "text": [
      "0    44.114706\n",
      "1    59.450000\n",
      "2    69.673529\n",
      "3    85.008824\n",
      "Name: Hours_Study, dtype: float64\n"
     ]
    }
   ],
   "source": [
    "testing = pd.read_csv('data/regression_test.csv')\n",
    "test_x = testing['Hours_Study']\n",
    "pred_y = slope*test_x + intercept\n",
    "print(pred_y)"
   ]
  },
  {
   "cell_type": "code",
   "execution_count": null,
   "id": "d7d59d7a",
   "metadata": {},
   "outputs": [],
   "source": []
  }
 ],
 "metadata": {
  "kernelspec": {
   "display_name": "Python 3",
   "language": "python",
   "name": "python3"
  },
  "language_info": {
   "codemirror_mode": {
    "name": "ipython",
    "version": 3
   },
   "file_extension": ".py",
   "mimetype": "text/x-python",
   "name": "python",
   "nbconvert_exporter": "python",
   "pygments_lexer": "ipython3",
   "version": "3.13.7"
  }
 },
 "nbformat": 4,
 "nbformat_minor": 5
}

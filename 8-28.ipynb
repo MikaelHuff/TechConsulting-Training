{
 "cells": [
  {
   "cell_type": "code",
   "execution_count": 1,
   "id": "1ff2cffe-acb6-4bf6-a291-a464965ad226",
   "metadata": {},
   "outputs": [],
   "source": [
    "_list = [1, 2, 3, \"a\"]\n",
    "_tuple = (1, 2, 3, \"a\")\n",
    "_dict = {}"
   ]
  },
  {
   "cell_type": "code",
   "execution_count": 2,
   "id": "7150255f-354a-4c23-96c9-f02c3637e976",
   "metadata": {},
   "outputs": [
    {
     "name": "stdout",
     "output_type": "stream",
     "text": [
      "15\n"
     ]
    }
   ],
   "source": [
    "_list = [1,2,3,4,5]\n",
    "sum(_list);\n",
    "sum_val = 0\n",
    "for x in _list:\n",
    "    sum_val += x\n",
    "print(sum_val)"
   ]
  },
  {
   "cell_type": "code",
   "execution_count": 3,
   "id": "929edc6c-caff-48b5-9eb0-6c991bc19791",
   "metadata": {},
   "outputs": [
    {
     "name": "stdout",
     "output_type": "stream",
     "text": [
      "dict_keys(['name1', 'name2', 'name3'])\n",
      "dict_values([1, 2, 3])\n"
     ]
    }
   ],
   "source": [
    "[mark1,mark2,mark3] = [1,2,3]\n",
    "students = {\"name1\":mark1, \"name2\":mark2, \"name3\":mark3}\n",
    "print(students.keys())\n",
    "print(students.values())"
   ]
  },
  {
   "cell_type": "code",
   "execution_count": 4,
   "id": "3bce67b2-e7fe-4c55-8f25-cf1d9d2ca242",
   "metadata": {},
   "outputs": [
    {
     "name": "stdout",
     "output_type": "stream",
     "text": [
      "[1, 4, 9, 16, 25, 36, 49, 64, 81]\n"
     ]
    }
   ],
   "source": [
    "arr = [[1,2,3],[4,5,6],[7,8,9]]\n",
    "ans = [g**2 for i in arr for g in i ]\n",
    "print(ans)"
   ]
  },
  {
   "cell_type": "code",
   "execution_count": 5,
   "id": "3b1f41ed-2c62-42de-9315-218dab2fdccc",
   "metadata": {},
   "outputs": [
    {
     "name": "stdout",
     "output_type": "stream",
     "text": [
      "[1, 2, 3, 4, 3]\n"
     ]
    }
   ],
   "source": [
    "a = [1,2,3,3,4,3]\n",
    "a.pop(3)\n",
    "print(a)\n"
   ]
  },
  {
   "cell_type": "code",
   "execution_count": 6,
   "id": "e375ffca-9f7c-4e49-93d2-e7f8eb39bd1c",
   "metadata": {},
   "outputs": [],
   "source": [
    "import sqlite3"
   ]
  },
  {
   "cell_type": "code",
   "execution_count": 7,
   "id": "0219cd3a-e583-4426-8dbb-f66716a73b37",
   "metadata": {},
   "outputs": [],
   "source": [
    "conn = sqlite3.connect(\":memory:\")\n",
    "cursor = conn.cursor()"
   ]
  },
  {
   "cell_type": "markdown",
   "id": "71e28e42-123d-44cb-b92f-7dd154d2ffb8",
   "metadata": {},
   "source": [
    "Design and implement a Complete University Management System in Python using SQLite and functions (def) with the following requirements:\n",
    "1. Database (SQLite)\n",
    "Create the following tables:\n",
    "Departments (dept_id, dept_name, hod_name)\n",
    "Students (student_id, name, class, dept_id)\n",
    "Subjects (subject_id, subject_name, dept_id)\n",
    "Marks (mark_id, student_id, subject_id, marks)\n",
    "\n",
    "Insert:\n",
    "At least 2 departments, 5 students, 4 subjects, and marks for each student in all subjects.\n",
    " "
   ]
  },
  {
   "cell_type": "code",
   "execution_count": 8,
   "id": "4b31834e-0d49-4e02-855a-90db1a050c5f",
   "metadata": {},
   "outputs": [
    {
     "data": {
      "text/plain": [
       "<sqlite3.Cursor at 0x2db8eb819c0>"
      ]
     },
     "execution_count": 8,
     "metadata": {},
     "output_type": "execute_result"
    }
   ],
   "source": [
    "cursor.execute(\"\"\"\n",
    "    CREATE TABLE Departments(\n",
    "        dept_id INTEGER,\n",
    "        dept_name TEXT,\n",
    "        hod_name TEXT\n",
    "    )\n",
    "\"\"\")\n",
    "\n",
    "cursor.execute(\"\"\"\n",
    "\n",
    "    CREATE TABLE Students(\n",
    "        student_id INTEGER,\n",
    "        name TEXT,\n",
    "        class INTEGER,\n",
    "        dept_id INTEGER\n",
    "    )\n",
    "\"\"\")\n",
    "\n",
    "cursor.execute(\"\"\"\n",
    "\n",
    "        CREATE TABLE Subjects(\n",
    "        subject_id INTEGER,\n",
    "        subject_name TEXT,\n",
    "        dept_id INTEGER\n",
    "    )\n",
    "\"\"\")\n",
    "\n",
    "cursor.execute(\"\"\"\n",
    "\n",
    "        CREATE TABLE Marks(\n",
    "        mark_id INTEGER,\n",
    "        student_id INTEGER,\n",
    "        subject_id INTEGER,\n",
    "        marks\n",
    "    )\n",
    "\"\"\")"
   ]
  },
  {
   "cell_type": "code",
   "execution_count": 9,
   "id": "ad0b9bb2-4bb2-4aec-8d85-b6e33aea8e8a",
   "metadata": {},
   "outputs": [
    {
     "name": "stdout",
     "output_type": "stream",
     "text": [
      "[(0, 0, 0, 40), (1, 1, 1, 43), (2, 2, 2, 46), (3, 3, 3, 49), (4, 4, 0, 52), (5, 0, 1, 55), (6, 1, 2, 58), (7, 2, 3, 61), (8, 3, 0, 64), (9, 4, 1, 67), (10, 0, 2, 70), (11, 1, 3, 73), (12, 2, 0, 76), (13, 3, 1, 79), (14, 4, 2, 82), (15, 0, 3, 85), (16, 1, 0, 88), (17, 2, 1, 91), (18, 3, 2, 94), (19, 4, 3, 97)]\n"
     ]
    }
   ],
   "source": [
    "departments = [\"Engineering\",\"Arts\"]\n",
    "hod = [\"misterA\", \"misterB\"]\n",
    "\n",
    "students = [\"student_1\", \"student_2\", \"student_3\", \"student_4\", \"student_5\"]\n",
    "subjects = [\"Math\", \"Science\", \"English\", \"History\"]\n",
    "marks = range(40, 100, 3)\n",
    "\n",
    "dept_data = list(zip(range(2),departments,hod))\n",
    "student_data = list(zip(range(5), students, [1,1,2,2,3],[0,1,0,1,0]))\n",
    "subject_data = list(zip(range(4), subjects, [0,0,1,1]))\n",
    "mark_data = list(zip(range(20), list(range(5)) * 4, list(range(4)) * 5, marks))\n",
    "print(mark_data)"
   ]
  },
  {
   "cell_type": "code",
   "execution_count": 10,
   "id": "4b29b19c-3f6e-4e8c-ad0e-178825fe8694",
   "metadata": {},
   "outputs": [
    {
     "data": {
      "text/plain": [
       "<sqlite3.Cursor at 0x2db8eb819c0>"
      ]
     },
     "execution_count": 10,
     "metadata": {},
     "output_type": "execute_result"
    }
   ],
   "source": [
    "cursor.executemany(\"INSERT INTO Departments(dept_id, dept_name, hod_name) VALUES (?, ? , ?)\", dept_data)\n",
    "cursor.executemany(\"INSERT INTO Students(student_id, name, class, dept_id) VALUES (?, ? , ?, ?)\", student_data)\n",
    "cursor.executemany(\"INSERT INTO Subjects(subject_id, subject_name, dept_id) VALUES (?, ? , ?)\", subject_data)\n",
    "cursor.executemany(\"INSERT INTO Marks(mark_id, student_id, subject_id, marks) VALUES (?, ? , ?, ?)\", mark_data)"
   ]
  },
  {
   "cell_type": "markdown",
   "id": "03e106f0-12b4-490d-bb24-e9a0ceab0863",
   "metadata": {},
   "source": [
    "\n",
    "2. Python Functions\n",
    "Implement the following:\n",
    "def add_student(name, class, dept_id)\n",
    "def add_subject(subject_name, dept_id)\n",
    "def add_marks(student_id, subject_id, marks)\n",
    "def show_students() → Display students with department name (JOIN)\n",
    "def show_subjects() → Display all subjects with their department\n",
    "def show_marks() → Display each student’s marks with subject names (JOIN)\n",
    "def student_report(student_id) → Show subject-wise marks, total, average, grade, pass/fail\n",
    "def toppers() → Show topper in each subject + overall topper\n",
    "def department_summary() → Show average marks department-wise (JOIN + GROUP BY)\n",
    "def unique_subjects() → Return unique subjects as a set"
   ]
  },
  {
   "cell_type": "code",
   "execution_count": 91,
   "id": "96c25ab5-d13f-466c-b04d-3254fdfc2e58",
   "metadata": {},
   "outputs": [],
   "source": [
    "def add_student(name, class_name, dept_id):\n",
    "    cursor.execute(\"INSERT INTO Students(name, class, dept_id) VALUES (? , ?, ?)\", (name, class_name, dept_id))\n",
    "    \n",
    "def add_subject(subject_name, dept_id):\n",
    "    cursor.execute(\"INSERT INTO Subjects(subject_name, dept_id) VALUES (? , ?)\", (subject_name, dept_id))\n",
    "\n",
    "def add_marks(student_id, subject_id, marks):\n",
    "    cursor.execute(\"INSERT INTO Marks(student_id, subject_id, marks) VALUES (?, ? , ?, ?)\", (student_id, subject_id, marks))\n",
    "\n",
    "\n",
    "def show_students():\n",
    "    return cursor.execute(\"\"\"\n",
    "        SELECT st.student_id, st.name, st.class, d.dept_name\n",
    "        FROM Students st\n",
    "        INNER JOIN Departments d ON st.dept_id = d.dept_id\n",
    "    \"\"\").fetchall()\n",
    "\n",
    "def show_subjects():\n",
    "    return cursor.execute(\"\"\"\n",
    "        SELECT sb.subject_id, sb.subject_name, d.dept_name\n",
    "        FROM Subjects sb\n",
    "        INNER JOIN Departments d ON sb.dept_id = d.dept_id\n",
    "    \"\"\").fetchall()\n",
    "def show_marks():\n",
    "    return cursor.execute(\"\"\"\n",
    "        SELECT m.student_id, sb.subject_name, m.marks\n",
    "        FROM Marks m\n",
    "        INNER JOIN Subjects sb ON m.subject_id = sb.subject_id\n",
    "    \"\"\").fetchall()\n",
    "\n",
    "\n",
    "def student_report(student_id):\n",
    "    #Show subject-wise marks, total, average, grade, pass/fail\n",
    "    letters = {'6':'D', '7':'C', '8':'B', '9':'A'}\n",
    "    temp = cursor.execute(\"\"\"\n",
    "        SELECT sb.subject_name, m.marks\n",
    "        FROM Marks m\n",
    "        INNER JOIN Subjects sb ON m.subject_id = sb.subject_id\n",
    "         where m.student_id = ?\n",
    "    \"\"\", (student_id)).fetchall()\n",
    "    names, grades = zip(*temp)\n",
    "    letter_grades = []\n",
    "    pass_fail = []\n",
    "    for grade in grades:\n",
    "        val = int(grade/10)        \n",
    "        if val >= 6:\n",
    "            letter_grades.append(letters[str(val)])\n",
    "        else:\n",
    "            letter_grades.append('F')\n",
    "        passing = True if val >= 7 else False\n",
    "        pass_fail.append(passing)\n",
    "    total = sum(list(grades))\n",
    "    avg = total/len(list(grades))\n",
    "    temp = list(temp)\n",
    "    return [*zip(names,grades,letter_grades,pass_fail), ('Total', total), ('Average', avg)]\n",
    "\n",
    "def toppers():\n",
    "    #→ Show topper in each subject + overall topper    \n",
    "    result = []\n",
    "    for subject_id in range(len(subjects)):\n",
    "        result.append(cursor.execute(\"\"\"\n",
    "        SELECT s.name, sb.subject_name, MAX(m.marks)\n",
    "        FROM Marks m INNER JOIN Students s ON m.student_id = s.student_id\n",
    "        INNER JOIN Subjects sb on m.subject_id = sb.subject_id\n",
    "        where m.subject_id = ?\n",
    "    \"\"\", (str(subject_id))).fetchall())\n",
    "    return result\n",
    "    \n",
    "def department_summary():\n",
    "    #→ Show average marks department-wise (JOIN + GROUP BY) \n",
    "    return cursor.execute(\"\"\"\n",
    "        SELECT d.dept_name, AVG(m.marks)\n",
    "        FROM Departments d INNER JOIN Subjects sb on d.dept_id = sb.dept_id\n",
    "        INNER JOIN Marks m ON sb.subject_id = m.subject_id  \n",
    "        GROUP BY d.dept_id\n",
    "    \"\"\").fetchall()\n",
    "    \n",
    "def unique_subjects():\n",
    "    #→ Return unique subjects as a set\n",
    "    temp = cursor.execute(\"\"\"\n",
    "        SELECT sb.subject_name\n",
    "        FROM Subjects sb\n",
    "    \"\"\").fetchall()\n",
    "    return set(*zip(*temp))"
   ]
  },
  {
   "cell_type": "code",
   "execution_count": 12,
   "id": "d4e06131-ffe7-4cf2-9f7f-b16403ed4bb5",
   "metadata": {},
   "outputs": [
    {
     "data": {
      "text/plain": [
       "[(0, 'student_1', 1, 'Engineering'),\n",
       " (1, 'student_2', 1, 'Arts'),\n",
       " (2, 'student_3', 2, 'Engineering'),\n",
       " (3, 'student_4', 2, 'Arts'),\n",
       " (4, 'student_5', 3, 'Engineering')]"
      ]
     },
     "execution_count": 12,
     "metadata": {},
     "output_type": "execute_result"
    }
   ],
   "source": [
    "show_students()"
   ]
  },
  {
   "cell_type": "code",
   "execution_count": 13,
   "id": "f6090f37-e07b-422e-a0ee-ae4d5cb232df",
   "metadata": {},
   "outputs": [
    {
     "data": {
      "text/plain": [
       "[(0, 'Math', 'Engineering'),\n",
       " (1, 'Science', 'Engineering'),\n",
       " (2, 'English', 'Arts'),\n",
       " (3, 'History', 'Arts')]"
      ]
     },
     "execution_count": 13,
     "metadata": {},
     "output_type": "execute_result"
    }
   ],
   "source": [
    "show_subjects()"
   ]
  },
  {
   "cell_type": "code",
   "execution_count": 14,
   "id": "59aff031-365d-47b1-8744-a56ae91c5fac",
   "metadata": {},
   "outputs": [
    {
     "data": {
      "text/plain": [
       "[(0, 'Math', 40),\n",
       " (1, 'Science', 43),\n",
       " (2, 'English', 46),\n",
       " (3, 'History', 49),\n",
       " (4, 'Math', 52),\n",
       " (0, 'Science', 55),\n",
       " (1, 'English', 58),\n",
       " (2, 'History', 61),\n",
       " (3, 'Math', 64),\n",
       " (4, 'Science', 67),\n",
       " (0, 'English', 70),\n",
       " (1, 'History', 73),\n",
       " (2, 'Math', 76),\n",
       " (3, 'Science', 79),\n",
       " (4, 'English', 82),\n",
       " (0, 'History', 85),\n",
       " (1, 'Math', 88),\n",
       " (2, 'Science', 91),\n",
       " (3, 'English', 94),\n",
       " (4, 'History', 97)]"
      ]
     },
     "execution_count": 14,
     "metadata": {},
     "output_type": "execute_result"
    }
   ],
   "source": [
    "show_marks()"
   ]
  },
  {
   "cell_type": "code",
   "execution_count": 62,
   "id": "e3d383b1-729c-46f0-85a2-4dba6ecdeb11",
   "metadata": {},
   "outputs": [
    {
     "name": "stdout",
     "output_type": "stream",
     "text": [
      "43\n",
      "4.3\n",
      "58\n",
      "5.8\n",
      "73\n",
      "7.3\n",
      "88\n",
      "8.8\n"
     ]
    },
    {
     "data": {
      "text/plain": [
       "[('Science', 43, 'F', False),\n",
       " ('English', 58, 'F', False),\n",
       " ('History', 73, 'C', True),\n",
       " ('Math', 88, 'B', True),\n",
       " ('Total', 262),\n",
       " ('Average', 65.5)]"
      ]
     },
     "execution_count": 62,
     "metadata": {},
     "output_type": "execute_result"
    }
   ],
   "source": [
    "student_report('1')"
   ]
  },
  {
   "cell_type": "code",
   "execution_count": 75,
   "id": "98e5d3ff-7a85-4d94-b0a9-e5cce8d0131b",
   "metadata": {},
   "outputs": [
    {
     "data": {
      "text/plain": [
       "[[('student_2', 'Math', 88)],\n",
       " [('student_3', 'Science', 91)],\n",
       " [('student_4', 'English', 94)],\n",
       " [('student_5', 'History', 97)]]"
      ]
     },
     "execution_count": 75,
     "metadata": {},
     "output_type": "execute_result"
    }
   ],
   "source": [
    "toppers()"
   ]
  },
  {
   "cell_type": "code",
   "execution_count": 83,
   "id": "4a46a8bf-f381-41a0-b925-fb326cf58178",
   "metadata": {},
   "outputs": [
    {
     "data": {
      "text/plain": [
       "[('Engineering', 65.5), ('Arts', 71.5)]"
      ]
     },
     "execution_count": 83,
     "metadata": {},
     "output_type": "execute_result"
    }
   ],
   "source": [
    "department_summary()"
   ]
  },
  {
   "cell_type": "code",
   "execution_count": 92,
   "id": "42550248-50d4-4266-bf42-1e975689f8ee",
   "metadata": {},
   "outputs": [
    {
     "data": {
      "text/plain": [
       "{'English', 'History', 'Math', 'Science'}"
      ]
     },
     "execution_count": 92,
     "metadata": {},
     "output_type": "execute_result"
    }
   ],
   "source": [
    "unique_subjects()"
   ]
  },
  {
   "cell_type": "code",
   "execution_count": null,
   "id": "871f5d8e-3ce3-40b5-a101-c4c42615eff3",
   "metadata": {},
   "outputs": [],
   "source": []
  }
 ],
 "metadata": {
  "kernelspec": {
   "display_name": "Python 3 (ipykernel)",
   "language": "python",
   "name": "python3"
  },
  "language_info": {
   "codemirror_mode": {
    "name": "ipython",
    "version": 3
   },
   "file_extension": ".py",
   "mimetype": "text/x-python",
   "name": "python",
   "nbconvert_exporter": "python",
   "pygments_lexer": "ipython3",
   "version": "3.13.7"
  }
 },
 "nbformat": 4,
 "nbformat_minor": 5
}
